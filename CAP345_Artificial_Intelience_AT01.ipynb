{
  "nbformat": 4,
  "nbformat_minor": 0,
  "metadata": {
    "colab": {
      "name": "CAP345_Artificial_Intelience_AT01.ipynb",
      "provenance": [],
      "authorship_tag": "ABX9TyNp6DOilkHXsG//sS0qFpn6",
      "include_colab_link": true
    },
    "kernelspec": {
      "name": "python3",
      "display_name": "Python 3"
    },
    "language_info": {
      "name": "python"
    }
  },
  "cells": [
    {
      "cell_type": "markdown",
      "metadata": {
        "id": "view-in-github",
        "colab_type": "text"
      },
      "source": [
        "<a href=\"https://colab.research.google.com/github/barauna-lo/Artificial_Inteligence/blob/main/CAP345_Artificial_Intelience_AT01.ipynb\" target=\"_parent\"><img src=\"https://colab.research.google.com/assets/colab-badge.svg\" alt=\"Open In Colab\"/></a>"
      ]
    },
    {
      "cell_type": "markdown",
      "source": [
        "[<img src=https://raw.githubusercontent.com/barauna-lo/CAP4213-Deep-Learning/main/logoinpe.png align=”middle”>](https://www.gov.br/inpe/pt-br)\n",
        "\n",
        "[<center><img src=\"https://github.com/barauna-lo/CAP4213-Deep-Learning/blob/main/LogoCAP.png?raw=true\" width = 500 align=\"middle\"></center>](http://www.inpe.br/posgraduacao/cap/)\n",
        "\n",
        "\n",
        "# CAP-345-3 - Inteligência Artificial\n",
        "\n",
        "* Aline Nascimento\n",
        "* Lourenço Cavalcante\n",
        "* Luan Orion Baraúna\n",
        "\n",
        "These code was provide for [this](https://sites.google.com/view/ia-inpe-2022/) course. \n",
        "\n",
        "\n"
      ],
      "metadata": {
        "id": "bxozg9S9c4rH"
      }
    },
    {
      "cell_type": "markdown",
      "source": [
        "# Atividade 1 - Análise do problema e dos dados\n",
        "\n",
        "1) Considere os conceitos apresentados em aula e o problema apresentado pela Dra. Tahisa (apres_problema.pdf)\n",
        "link: https://drive.google.com/file/d/1OzCFj26aTVmw-dEAGhAhTbv2kFO2K7YD/view?usp=sharing\n",
        "\n",
        " \n",
        "Apresente a introdução de um artigo (seção 1) em um documento no formato (IEEE) (https://www.ieee.org/conferences/publishing/templates.html), contendo: \n",
        "A descrição do problema, a motivação, os objetivos, possíveis técnicas a serem empregadas e resultados esperados.  \n",
        " \n",
        "2) Considere os dados disponíveis nos arquivos .csv: \n",
        "\n",
        "Conjunto 1 – 1o período: \n",
        "   1. Sentinel 1. Data: 28-05-2022 \n",
        "   2. Sentinel 2. Data: 31-05-2022 \n",
        "\n",
        "Conjunto 2 – 2o período: \n",
        "   1. Sentinel 1. Data: 07-10-2022 \n",
        "   2. Sentinel 2. Data: 08-10-2022 \n",
        "\n",
        "Apresente a análise e tratamento dos dados (seção 2) no mesmo documento no formato IEEE.\n",
        "\n",
        "   a) descreva as entradas e saídas para o problema considerado;\n",
        "\n",
        "   b) descreva informações dos conjuntos de dados; \n",
        "   \n",
        "   c) descreva e apresente análises de possíveis dados faltantes e outliers; \n",
        "   \n",
        "   d) descreva e apresente análises estatísticas dos dados; \n",
        "   \n",
        "   e) descreva e apresente possíveis correlações dos dados; \n",
        " \n",
        "As análises podem ser feitas no Orange ou com bibliotecas Python ou R. \n",
        "O trabalho pode ser feito em grupo de até 3 pessoas. Cada um deve postar a atividade (arquivos .pdf e programa), com indicação da composição do grupo.\n",
        "\n",
        "Data de postagem: 22/04/2022\n",
        "\n",
        "\n",
        "===============\n",
        "\n",
        "ATENÇÃO: Os dados anteriormente compartilhados podem apresentar dificuldades na fase de leitura. \n",
        "Estamos disponibilizando os mesmos dados em formato diferente, no link abaixo.\n",
        "\n",
        "https://drive.google.com/drive/folders/1jLUUUl-KcNOaDWGRkivA6C5g-gE7FZUd?usp=sharing\n"
      ],
      "metadata": {
        "id": "bLM8LwWuujqc"
      }
    },
    {
      "cell_type": "markdown",
      "source": [
        "# 1) Introdução:\n",
        "A introdução do problema pode ser encontrada [nesta](https://www.overleaf.com/read/xwtdcgxpnytc) versão do Overleaf"
      ],
      "metadata": {
        "id": "zOV4vNMot4iQ"
      }
    },
    {
      "cell_type": "markdown",
      "source": [
        "# 2) Considere os dados disponíveis nos arquivos .csv: \n"
      ],
      "metadata": {
        "id": "Pzm_rGHVsuJY"
      }
    },
    {
      "cell_type": "code",
      "source": [
        "#Import Librarys 📚\n",
        "import numpy as np\n",
        "import pandas as pd\n",
        "import matplotlib.pyplot as plt\n",
        "from matplotlib.pyplot import figure\n",
        "#import seaborn as sns\n",
        "#from pyparsing.core import ZeroOrMore\n",
        "#from itertools import combinations\n",
        "\n",
        "# set a grey background (use sns.set_theme() if seaborn version 0.11.0 or above) \n",
        "#sns.set(style=\"darkgrid\")"
      ],
      "metadata": {
        "id": "q02fvSxNZkq7"
      },
      "execution_count": 1,
      "outputs": []
    },
    {
      "cell_type": "code",
      "execution_count": 2,
      "metadata": {
        "colab": {
          "base_uri": "https://localhost:8080/"
        },
        "id": "LhkX4JvRbO8U",
        "outputId": "9371f2cb-7587-43b1-836b-dec6594a3417"
      },
      "outputs": [
        {
          "output_type": "stream",
          "name": "stdout",
          "text": [
            "/usr/local/lib/python3.7/dist-packages/gdown/cli.py:131: FutureWarning: Option `--id` was deprecated in version 4.3.1 and will be removed in 5.0. You don't need to pass it anymore to use a file ID.\n",
            "  category=FutureWarning,\n",
            "Downloading...\n",
            "From: https://drive.google.com/uc?id=12l96KuvmDKNskSe8Zzf0yt-DwKwb_uPh\n",
            "To: /content/S120200528.csv\n",
            "100% 36.1M/36.1M [00:00<00:00, 215MB/s]\n",
            "/usr/local/lib/python3.7/dist-packages/gdown/cli.py:131: FutureWarning: Option `--id` was deprecated in version 4.3.1 and will be removed in 5.0. You don't need to pass it anymore to use a file ID.\n",
            "  category=FutureWarning,\n",
            "Downloading...\n",
            "From: https://drive.google.com/uc?id=1RUSxSQX5bYIsr4ewGM_u0jRs3-edj7ze\n",
            "To: /content/S120201007.csv\n",
            "100% 36.4M/36.4M [00:00<00:00, 90.1MB/s]\n",
            "/usr/local/lib/python3.7/dist-packages/gdown/cli.py:131: FutureWarning: Option `--id` was deprecated in version 4.3.1 and will be removed in 5.0. You don't need to pass it anymore to use a file ID.\n",
            "  category=FutureWarning,\n",
            "Downloading...\n",
            "From: https://drive.google.com/uc?id=1funnNkha2LANOsXtSZus0iZAD6R3_5xR\n",
            "To: /content/S220200531.csv\n",
            "100% 100M/100M [00:00<00:00, 191MB/s] \n",
            "/usr/local/lib/python3.7/dist-packages/gdown/cli.py:131: FutureWarning: Option `--id` was deprecated in version 4.3.1 and will be removed in 5.0. You don't need to pass it anymore to use a file ID.\n",
            "  category=FutureWarning,\n",
            "Downloading...\n",
            "From: https://drive.google.com/uc?id=1uu1pH1_Y1ztqg8ugSkwc7lNqiRBSdMuz\n",
            "To: /content/S220201008.csv\n",
            "100% 99.5M/99.5M [00:00<00:00, 177MB/s]\n"
          ]
        }
      ],
      "source": [
        "#Downloading data frames from Google Drive\n",
        "!gdown --id 12l96KuvmDKNskSe8Zzf0yt-DwKwb_uPh\n",
        "!gdown --id 1RUSxSQX5bYIsr4ewGM_u0jRs3-edj7ze\n",
        "!gdown --id 1funnNkha2LANOsXtSZus0iZAD6R3_5xR\n",
        "!gdown --id 1uu1pH1_Y1ztqg8ugSkwc7lNqiRBSdMuz"
      ]
    },
    {
      "cell_type": "code",
      "source": [
        "#Reading the data and Sorting in cresceting order in DN Classes\n",
        "\n",
        "Sent1D1=pd.read_csv('S120200528.csv').sort_values(by=['DN']) #Sentinel-1 Date 1\n",
        "Sent1D2=pd.read_csv('S120201007.csv').sort_values(by=['DN']) #Sentinel-1 Date 2\n",
        "Sent2D1=pd.read_csv('S220200531.csv').sort_values(by=['DN']) #Sentinel-2 Date 1\n",
        "Sent2D2=pd.read_csv('S220201008.csv').sort_values(by=['DN']) #Sentinel-2 Date 2"
      ],
      "metadata": {
        "id": "KnMv3OVjzdQ6"
      },
      "execution_count": 3,
      "outputs": []
    },
    {
      "cell_type": "markdown",
      "source": [
        "## a) descreva as entradas e saídas para o problema considerado;\n",
        "\n",
        "Este é um problema de **CLASSIFICAÇÃO**. Para isso iremos utilizas como classe os elementos da coluna `DN` do conjunto de dados. Para classificamos os objetos de uma determinada classe utilizaremos as demais colunas da tabela que podem ser encontradas com vizualizadas com `df.colluns`"
      ],
      "metadata": {
        "id": "B7NZ8ocCrrzX"
      }
    },
    {
      "cell_type": "code",
      "source": [
        ""
      ],
      "metadata": {
        "id": "AdUqVN3BwKgx"
      },
      "execution_count": 17,
      "outputs": []
    },
    {
      "cell_type": "code",
      "source": [
        "Sent1D2.columns"
      ],
      "metadata": {
        "colab": {
          "base_uri": "https://localhost:8080/"
        },
        "id": "KwEcBkjbrLts",
        "outputId": "52e1621a-756e-49ae-8fd5-3315d2fa49a2"
      },
      "execution_count": 4,
      "outputs": [
        {
          "output_type": "execute_result",
          "data": {
            "text/plain": [
              "Index(['fid', 'DN', '20201007_S1_VH_count', '20201007_S1_VH_sum',\n",
              "       '20201007_S1_VH_mean', '20201007_S1_VH_median', '20201007_S1_VH_stdev',\n",
              "       '20201007_S1_VH_min', '20201007_S1_VH_max', '20201007_S1_VH_range',\n",
              "       '20201007_S1_VH_minority', '20201007_S1_VH_majority',\n",
              "       '20201007_S1_VH_variety', '20201007_S1_VH_variance',\n",
              "       '20201007_S1_VV_count', '20201007_S1_VV_sum', '20201007_S1_VV_mean',\n",
              "       '20201007_S1_VV_median', '20201007_S1_VV_stdev', '20201007_S1_VV_min',\n",
              "       '20201007_S1_VV_max', '20201007_S1_VV_range', '20201007_S1_VV_minority',\n",
              "       '20201007_S1_VV_majority', '20201007_S1_VV_variety',\n",
              "       '20201007_S1_VV_variance'],\n",
              "      dtype='object')"
            ]
          },
          "metadata": {},
          "execution_count": 4
        }
      ]
    },
    {
      "cell_type": "markdown",
      "source": [
        "## b) descreva informações dos conjuntos de dados; \n",
        "\n",
        "Os dados são provenientes de um processo de [_Segmentação de Imagens_](https://en.wikipedia.org/wiki/Image_segmentation) das imagens extraídas do satélites [Sentinel-1](https://sentinels.copernicus.eu/web/sentinel/missions/sentinel-1) e [Sentinel-2](https://sentinels.copernicus.eu/web/sentinel/missions/sentinel-2) em 4 conjuntos de dados diferentes proveniente dos dois satélites em datas diferentes. \n",
        "\n",
        "As segmentações possuem uma identificação na coluna `fid`, uma classe associada a classificação do [MapBiomas Brasil Coleção 06](https://mapbiomas.org/estatisticas) `DM` e um conjunto de atributos separados alocados nas colunas. Cada conjunto de dados possui uma quantidade de atributos diferentes."
      ],
      "metadata": {
        "id": "FWs1N-Osrrrz"
      }
    },
    {
      "cell_type": "code",
      "source": [
        "print('Sentinel-1 \\n' ,len(Sent1D1.columns) , 'for  2020/05/28' , ' and  ' , len(Sent1D2.columns), 'for  2020/10/07')\n",
        "print('Sentinel-2 \\n' ,len(Sent2D1.columns) , 'for  2020/05/31' , ' and  ' , len(Sent2D2.columns), 'for  2020/10/08')"
      ],
      "metadata": {
        "colab": {
          "base_uri": "https://localhost:8080/"
        },
        "id": "sYeBlgaTrrQL",
        "outputId": "2d1d3e2f-e951-4a26-a1de-309bd2aa9208"
      },
      "execution_count": 5,
      "outputs": [
        {
          "output_type": "stream",
          "name": "stdout",
          "text": [
            "Sentinel-1 \n",
            " 26 for  2020/05/28  and   26 for  2020/10/07\n",
            "Sentinel-2 \n",
            " 158 for  2020/05/31  and   158 for  2020/10/08\n"
          ]
        }
      ]
    },
    {
      "cell_type": "markdown",
      "source": [
        "## c) Descreva e apresente análises de possíveis dados faltantes e outliers;\n",
        "\n",
        "Vamos olhar cada um dos conjuntos de dados."
      ],
      "metadata": {
        "id": "ZMbSc5Bz2Qw5"
      }
    },
    {
      "cell_type": "code",
      "source": [
        "#Sentinel -1\n",
        "print('Sentinel -1\\n')\n",
        "print(Sent1D1.info())\n",
        "print('\\n \\n')\n",
        "print(Sent1D2.info())\n",
        "print('\\n#########################################\\n')\n",
        "print('Sentinel -2\\n')\n",
        "print(Sent2D1.info())\n",
        "print('\\n')\n",
        "print(Sent2D2.info())\n",
        "#https://medium.com/turing-talks/como-fazer-uma-limpeza-de-dados-completa-em-python-7abc9dfc19b8"
      ],
      "metadata": {
        "colab": {
          "base_uri": "https://localhost:8080/"
        },
        "id": "ctUjIGpI2RYq",
        "outputId": "d823bd01-221a-4d62-fd24-f251838ff112"
      },
      "execution_count": 6,
      "outputs": [
        {
          "output_type": "stream",
          "name": "stdout",
          "text": [
            "Sentinel -1\n",
            "\n",
            "<class 'pandas.core.frame.DataFrame'>\n",
            "Int64Index: 90064 entries, 51903 to 41330\n",
            "Data columns (total 26 columns):\n",
            " #   Column                   Non-Null Count  Dtype  \n",
            "---  ------                   --------------  -----  \n",
            " 0   fid                      90064 non-null  int64  \n",
            " 1   DN                       90064 non-null  int64  \n",
            " 2   S1_20200528_VHcount      90064 non-null  float64\n",
            " 3   S1_20200528_VHsum        90064 non-null  float64\n",
            " 4   S1_20200528_VHmean       90064 non-null  float64\n",
            " 5   S1_20200528_VHmedian     90064 non-null  float64\n",
            " 6   S1_20200528_VHstdev      90064 non-null  float64\n",
            " 7   S1_20200528_VHmin        90064 non-null  float64\n",
            " 8   S1_20200528_VHmax        90064 non-null  float64\n",
            " 9   S1_20200528_VHrange      90064 non-null  float64\n",
            " 10  S1_20200528_VHminority   90064 non-null  float64\n",
            " 11  S1_20200528_VHmajority   90064 non-null  float64\n",
            " 12  S1_20200528_VHvariety    90064 non-null  int64  \n",
            " 13  S1_20200528_VHvariance   90064 non-null  float64\n",
            " 14  S1_20200528_VV_count     90064 non-null  float64\n",
            " 15  S1_20200528_VV_sum       90064 non-null  float64\n",
            " 16  S1_20200528_VV_mean      90064 non-null  float64\n",
            " 17  S1_20200528_VV_median    90064 non-null  float64\n",
            " 18  S1_20200528_VV_stdev     90064 non-null  float64\n",
            " 19  S1_20200528_VV_min       90064 non-null  float64\n",
            " 20  S1_20200528_VV_max       90064 non-null  float64\n",
            " 21  S1_20200528_VV_range     90064 non-null  float64\n",
            " 22  S1_20200528_VV_minority  90064 non-null  float64\n",
            " 23  S1_20200528_VV_majority  90064 non-null  float64\n",
            " 24  S1_20200528_VV_variety   90064 non-null  int64  \n",
            " 25  S1_20200528_VV_variance  90064 non-null  float64\n",
            "dtypes: float64(22), int64(4)\n",
            "memory usage: 18.6 MB\n",
            "None\n",
            "\n",
            " \n",
            "\n",
            "<class 'pandas.core.frame.DataFrame'>\n",
            "Int64Index: 90064 entries, 51903 to 41330\n",
            "Data columns (total 26 columns):\n",
            " #   Column                   Non-Null Count  Dtype  \n",
            "---  ------                   --------------  -----  \n",
            " 0   fid                      90064 non-null  int64  \n",
            " 1   DN                       90064 non-null  int64  \n",
            " 2   20201007_S1_VH_count     90064 non-null  float64\n",
            " 3   20201007_S1_VH_sum       90064 non-null  float64\n",
            " 4   20201007_S1_VH_mean      90064 non-null  float64\n",
            " 5   20201007_S1_VH_median    90064 non-null  float64\n",
            " 6   20201007_S1_VH_stdev     90064 non-null  float64\n",
            " 7   20201007_S1_VH_min       90064 non-null  float64\n",
            " 8   20201007_S1_VH_max       90064 non-null  float64\n",
            " 9   20201007_S1_VH_range     90064 non-null  float64\n",
            " 10  20201007_S1_VH_minority  90064 non-null  float64\n",
            " 11  20201007_S1_VH_majority  90064 non-null  float64\n",
            " 12  20201007_S1_VH_variety   90064 non-null  int64  \n",
            " 13  20201007_S1_VH_variance  90064 non-null  float64\n",
            " 14  20201007_S1_VV_count     90064 non-null  float64\n",
            " 15  20201007_S1_VV_sum       90064 non-null  float64\n",
            " 16  20201007_S1_VV_mean      90064 non-null  float64\n",
            " 17  20201007_S1_VV_median    90064 non-null  float64\n",
            " 18  20201007_S1_VV_stdev     90064 non-null  float64\n",
            " 19  20201007_S1_VV_min       90064 non-null  float64\n",
            " 20  20201007_S1_VV_max       90064 non-null  float64\n",
            " 21  20201007_S1_VV_range     90064 non-null  float64\n",
            " 22  20201007_S1_VV_minority  90064 non-null  float64\n",
            " 23  20201007_S1_VV_majority  90064 non-null  float64\n",
            " 24  20201007_S1_VV_variety   90064 non-null  int64  \n",
            " 25  20201007_S1_VV_variance  90064 non-null  float64\n",
            "dtypes: float64(22), int64(4)\n",
            "memory usage: 18.6 MB\n",
            "None\n",
            "\n",
            "#########################################\n",
            "\n",
            "Sentinel -2\n",
            "\n",
            "<class 'pandas.core.frame.DataFrame'>\n",
            "Int64Index: 90064 entries, 51903 to 41330\n",
            "Columns: 158 entries, fid to 20200531_S2_B12_variance\n",
            "dtypes: float64(156), int64(2)\n",
            "memory usage: 109.3 MB\n",
            "None\n",
            "\n",
            "\n",
            "<class 'pandas.core.frame.DataFrame'>\n",
            "Int64Index: 90064 entries, 51903 to 41330\n",
            "Columns: 158 entries, fid to 20201008_S2_B12_variance\n",
            "dtypes: float64(156), int64(2)\n",
            "memory usage: 109.3 MB\n",
            "None\n"
          ]
        }
      ]
    },
    {
      "cell_type": "markdown",
      "source": [
        "Index(['fid', \n",
        "'DN', 'S1_20200528_VHcount',\n",
        " 'S1_20200528_VHsum',\n",
        "       'S1_20200528_VHmean', 'S1_20200528_VHmedian', 'S1_20200528_VHstdev',\n",
        "       'S1_20200528_VHmin', 'S1_20200528_VHmax', 'S1_20200528_VHrange',\n",
        "       'S1_20200528_VHminority', 'S1_20200528_VHmajority',\n",
        "       'S1_20200528_VHvariety', 'S1_20200528_VHvariance',\n",
        "       'S1_20200528_VV_count', 'S1_20200528_VV_sum', 'S1_20200528_VV_mean',\n",
        "       'S1_20200528_VV_median', 'S1_20200528_VV_stdev', 'S1_20200528_VV_min',\n",
        "       'S1_20200528_VV_max', 'S1_20200528_VV_range', 'S1_20200528_VV_minority',\n",
        "       'S1_20200528_VV_majority', 'S1_20200528_VV_variety',\n",
        "       'S1_20200528_VV_variance'],\n",
        "      dtype='object')"
      ],
      "metadata": {
        "id": "rAhgTCvG5qt6"
      }
    },
    {
      "cell_type": "markdown",
      "source": [
        "Agora iremos procurar por dados nulos em cada um dos conjuntos de dados"
      ],
      "metadata": {
        "id": "_inB8p1i5VPq"
      }
    },
    {
      "cell_type": "code",
      "source": [
        "print('Sentinel-1 Data 1\\n',Sent1D1.isna().sum(),'\\n')\n",
        "print('Sentinel-1 Data 2\\n',Sent1D2.isna().sum(),'\\n')\n",
        "print('Sentinel-2 Data 1\\n',Sent2D2.isna().sum(),'\\n')\n",
        "print('Sentinel-2 Data 2\\n',Sent2D2.isna().sum(),'\\n')"
      ],
      "metadata": {
        "colab": {
          "base_uri": "https://localhost:8080/"
        },
        "id": "6E8b2liO5LjG",
        "outputId": "2e2fd3af-3a7f-4c64-c27b-5e2d03f5f405"
      },
      "execution_count": 7,
      "outputs": [
        {
          "output_type": "stream",
          "name": "stdout",
          "text": [
            "Sentinel-1 Data 1\n",
            " fid                        0\n",
            "DN                         0\n",
            "S1_20200528_VHcount        0\n",
            "S1_20200528_VHsum          0\n",
            "S1_20200528_VHmean         0\n",
            "S1_20200528_VHmedian       0\n",
            "S1_20200528_VHstdev        0\n",
            "S1_20200528_VHmin          0\n",
            "S1_20200528_VHmax          0\n",
            "S1_20200528_VHrange        0\n",
            "S1_20200528_VHminority     0\n",
            "S1_20200528_VHmajority     0\n",
            "S1_20200528_VHvariety      0\n",
            "S1_20200528_VHvariance     0\n",
            "S1_20200528_VV_count       0\n",
            "S1_20200528_VV_sum         0\n",
            "S1_20200528_VV_mean        0\n",
            "S1_20200528_VV_median      0\n",
            "S1_20200528_VV_stdev       0\n",
            "S1_20200528_VV_min         0\n",
            "S1_20200528_VV_max         0\n",
            "S1_20200528_VV_range       0\n",
            "S1_20200528_VV_minority    0\n",
            "S1_20200528_VV_majority    0\n",
            "S1_20200528_VV_variety     0\n",
            "S1_20200528_VV_variance    0\n",
            "dtype: int64 \n",
            "\n",
            "Sentinel-1 Data 2\n",
            " fid                        0\n",
            "DN                         0\n",
            "20201007_S1_VH_count       0\n",
            "20201007_S1_VH_sum         0\n",
            "20201007_S1_VH_mean        0\n",
            "20201007_S1_VH_median      0\n",
            "20201007_S1_VH_stdev       0\n",
            "20201007_S1_VH_min         0\n",
            "20201007_S1_VH_max         0\n",
            "20201007_S1_VH_range       0\n",
            "20201007_S1_VH_minority    0\n",
            "20201007_S1_VH_majority    0\n",
            "20201007_S1_VH_variety     0\n",
            "20201007_S1_VH_variance    0\n",
            "20201007_S1_VV_count       0\n",
            "20201007_S1_VV_sum         0\n",
            "20201007_S1_VV_mean        0\n",
            "20201007_S1_VV_median      0\n",
            "20201007_S1_VV_stdev       0\n",
            "20201007_S1_VV_min         0\n",
            "20201007_S1_VV_max         0\n",
            "20201007_S1_VV_range       0\n",
            "20201007_S1_VV_minority    0\n",
            "20201007_S1_VV_majority    0\n",
            "20201007_S1_VV_variety     0\n",
            "20201007_S1_VV_variance    0\n",
            "dtype: int64 \n",
            "\n",
            "Sentinel-2 Data 1\n",
            " fid                          0\n",
            "DN                           0\n",
            "20201008_S2_B1_count        21\n",
            "20201008_S2_B1_sum          21\n",
            "20201008_S2_B1_mean         21\n",
            "                            ..\n",
            "20201008_S2_B12_range       21\n",
            "20201008_S2_B12_minority    21\n",
            "20201008_S2_B12_majority    21\n",
            "20201008_S2_B12_variety     21\n",
            "20201008_S2_B12_variance    21\n",
            "Length: 158, dtype: int64 \n",
            "\n",
            "Sentinel-2 Data 2\n",
            " fid                          0\n",
            "DN                           0\n",
            "20201008_S2_B1_count        21\n",
            "20201008_S2_B1_sum          21\n",
            "20201008_S2_B1_mean         21\n",
            "                            ..\n",
            "20201008_S2_B12_range       21\n",
            "20201008_S2_B12_minority    21\n",
            "20201008_S2_B12_majority    21\n",
            "20201008_S2_B12_variety     21\n",
            "20201008_S2_B12_variance    21\n",
            "Length: 158, dtype: int64 \n",
            "\n"
          ]
        }
      ]
    },
    {
      "cell_type": "markdown",
      "source": [
        "Iremos deletar todas as linhas que possírem dados nulos em todas as colunas."
      ],
      "metadata": {
        "id": "F--5Ujp46LQG"
      }
    },
    {
      "cell_type": "code",
      "source": [
        "Sent1D1 = Sent1D1.drop(Sent1D1.index[[0,1]])\n",
        "Sent1D2 = Sent1D2.drop(Sent1D2.index[[0,1]])\n",
        "Sent2D1 = Sent2D1.drop(Sent2D1.index[[0,1]])\n",
        "Sent2D2 = Sent2D2.drop(Sent2D2.index[[0,1]])"
      ],
      "metadata": {
        "id": "CAOB9Nhg6Kw2"
      },
      "execution_count": 8,
      "outputs": []
    },
    {
      "cell_type": "code",
      "source": [
        "print('Sentinel-1 Data 1\\n',Sent1D1.isna().sum(),'\\n')\n",
        "print('Sentinel-1 Data 2\\n',Sent1D2.isna().sum(),'\\n')\n",
        "print('Sentinel-2 Data 1\\n',Sent2D2.isna().sum(),'\\n')\n",
        "print('Sentinel-2 Data 2\\n',Sent2D2.isna().sum(),'\\n')"
      ],
      "metadata": {
        "colab": {
          "base_uri": "https://localhost:8080/"
        },
        "id": "9_Ab1dfH6bMC",
        "outputId": "e035ecdd-deda-4d50-e38b-cbf717492256"
      },
      "execution_count": 9,
      "outputs": [
        {
          "output_type": "stream",
          "name": "stdout",
          "text": [
            "Sentinel-1 Data 1\n",
            " fid                        0\n",
            "DN                         0\n",
            "S1_20200528_VHcount        0\n",
            "S1_20200528_VHsum          0\n",
            "S1_20200528_VHmean         0\n",
            "S1_20200528_VHmedian       0\n",
            "S1_20200528_VHstdev        0\n",
            "S1_20200528_VHmin          0\n",
            "S1_20200528_VHmax          0\n",
            "S1_20200528_VHrange        0\n",
            "S1_20200528_VHminority     0\n",
            "S1_20200528_VHmajority     0\n",
            "S1_20200528_VHvariety      0\n",
            "S1_20200528_VHvariance     0\n",
            "S1_20200528_VV_count       0\n",
            "S1_20200528_VV_sum         0\n",
            "S1_20200528_VV_mean        0\n",
            "S1_20200528_VV_median      0\n",
            "S1_20200528_VV_stdev       0\n",
            "S1_20200528_VV_min         0\n",
            "S1_20200528_VV_max         0\n",
            "S1_20200528_VV_range       0\n",
            "S1_20200528_VV_minority    0\n",
            "S1_20200528_VV_majority    0\n",
            "S1_20200528_VV_variety     0\n",
            "S1_20200528_VV_variance    0\n",
            "dtype: int64 \n",
            "\n",
            "Sentinel-1 Data 2\n",
            " fid                        0\n",
            "DN                         0\n",
            "20201007_S1_VH_count       0\n",
            "20201007_S1_VH_sum         0\n",
            "20201007_S1_VH_mean        0\n",
            "20201007_S1_VH_median      0\n",
            "20201007_S1_VH_stdev       0\n",
            "20201007_S1_VH_min         0\n",
            "20201007_S1_VH_max         0\n",
            "20201007_S1_VH_range       0\n",
            "20201007_S1_VH_minority    0\n",
            "20201007_S1_VH_majority    0\n",
            "20201007_S1_VH_variety     0\n",
            "20201007_S1_VH_variance    0\n",
            "20201007_S1_VV_count       0\n",
            "20201007_S1_VV_sum         0\n",
            "20201007_S1_VV_mean        0\n",
            "20201007_S1_VV_median      0\n",
            "20201007_S1_VV_stdev       0\n",
            "20201007_S1_VV_min         0\n",
            "20201007_S1_VV_max         0\n",
            "20201007_S1_VV_range       0\n",
            "20201007_S1_VV_minority    0\n",
            "20201007_S1_VV_majority    0\n",
            "20201007_S1_VV_variety     0\n",
            "20201007_S1_VV_variance    0\n",
            "dtype: int64 \n",
            "\n",
            "Sentinel-2 Data 1\n",
            " fid                          0\n",
            "DN                           0\n",
            "20201008_S2_B1_count        21\n",
            "20201008_S2_B1_sum          21\n",
            "20201008_S2_B1_mean         21\n",
            "                            ..\n",
            "20201008_S2_B12_range       21\n",
            "20201008_S2_B12_minority    21\n",
            "20201008_S2_B12_majority    21\n",
            "20201008_S2_B12_variety     21\n",
            "20201008_S2_B12_variance    21\n",
            "Length: 158, dtype: int64 \n",
            "\n",
            "Sentinel-2 Data 2\n",
            " fid                          0\n",
            "DN                           0\n",
            "20201008_S2_B1_count        21\n",
            "20201008_S2_B1_sum          21\n",
            "20201008_S2_B1_mean         21\n",
            "                            ..\n",
            "20201008_S2_B12_range       21\n",
            "20201008_S2_B12_minority    21\n",
            "20201008_S2_B12_majority    21\n",
            "20201008_S2_B12_variety     21\n",
            "20201008_S2_B12_variance    21\n",
            "Length: 158, dtype: int64 \n",
            "\n"
          ]
        }
      ]
    },
    {
      "cell_type": "markdown",
      "source": [
        "## d) descreva e apresente análises estatísticas dos dados;\n",
        "\n",
        "A primeira pergunta que procuraremos responder é sobre a distribuição de segmentação por classes em cada um dos conjuntos de dados."
      ],
      "metadata": {
        "id": "NxgajjjRCVvK"
      }
    },
    {
      "cell_type": "code",
      "source": [
        "from collections import Counter\n",
        "#Alocating Frequency Data\n",
        "freqs = [Counter(Sent1D1['DN'].values),\n",
        "         Counter(Sent2D1['DN'].values),\n",
        "         Counter(Sent1D2['DN'].values),\n",
        "         Counter(Sent2D2['DN'].values)]\n",
        "#Alocanting Classes Values\n",
        "xvals = []\n",
        "for i in range(len(freqs)):\n",
        "  xvals.append(range(len(freqs[i].values())) )\n",
        "#Titles Classes\n",
        "titles =['Sentinel-1 20/05/28',\n",
        "         'Sentinel-1 20/10/07',\n",
        "         'Sentinel-2 20/05/31',\n",
        "         'Sentinel-2 20/10/08']\n",
        "\n",
        "#Colors Label From the MapBiomas 06 \n",
        "colors = ['C0','#006400','#00ff00','#45C2A5','#B8AF4F','#FFD966','#aa0000','#0000FF','#e075ad','#e787f8']\n",
        "\n",
        "#Ploting Figure\n",
        "figure(figsize=(17, 10), dpi=80)\n",
        "\n",
        "\n",
        "plt.suptitle(\"Classes Distribuition From all Data Frame\",y=0.94)\n",
        "for i in range(len(titles)):\n",
        "  plt.subplot(2,2,(i+1))\n",
        "  plt.bar(xvals[i], freqs[i].values(),color = colors)\n",
        "  plt.xticks(xvals[i], freqs[i].keys())\n",
        "  plt.xlabel('Classes Label')\n",
        "  plt.ylabel('Number of samples')\n",
        "  plt.yscale(\"log\")\n",
        "  plt.title(titles[i])\n",
        "plt.show() \n",
        "#https://stackoverflow.com/questions/56850735/matplotlib-histogram-with-non-numerical-data"
      ],
      "metadata": {
        "colab": {
          "base_uri": "https://localhost:8080/",
          "height": 717
        },
        "id": "ch0xVx7-iBkl",
        "outputId": "7139dd9f-4bdc-483a-e41a-6b48b986b3cb"
      },
      "execution_count": 73,
      "outputs": [
        {
          "output_type": "display_data",
          "data": {
            "text/plain": [
              "<Figure size 1360x800 with 4 Axes>"
            ],
            "image/png": "[encoded data removed]"
          },
          "metadata": {
            "needs_background": "light"
          }
        }
      ]
    },
    {
      "cell_type": "code",
      "source": [
        ""
      ],
      "metadata": {
        "colab": {
          "base_uri": "https://localhost:8080/"
        },
        "id": "nzeaXy5XLnSk",
        "outputId": "f0a83c24-759a-46e2-a6be-00165c0db995"
      },
      "execution_count": 103,
      "outputs": [
        {
          "output_type": "execute_result",
          "data": {
            "text/plain": [
              "10"
            ]
          },
          "metadata": {},
          "execution_count": 103
        }
      ]
    },
    {
      "cell_type": "markdown",
      "source": [
        "Iremos analizar para o caso do Sentinel-1 que possui 26 classes, a distribuição de dados para cada classe"
      ],
      "metadata": {
        "id": "amu0CteHvNUw"
      }
    },
    {
      "cell_type": "code",
      "source": [
        "#Creating tabels for eache Classes\n",
        "\n",
        "Sent1D1_CLASSES=[Sent1D1.loc[Sent1D1['DN'] == 0],\n",
        "                 Sent1D1.loc[Sent1D1['DN'] == 3],\n",
        "                 Sent1D1.loc[Sent1D1['DN'] == 4],\n",
        "                 Sent1D1.loc[Sent1D1['DN'] ==11],\n",
        "                 Sent1D1.loc[Sent1D1['DN'] ==12],\n",
        "                 Sent1D1.loc[Sent1D1['DN'] ==15],\n",
        "                 Sent1D1.loc[Sent1D1['DN'] ==24],\n",
        "                 Sent1D1.loc[Sent1D1['DN'] ==33],\n",
        "                 Sent1D1.loc[Sent1D1['DN'] ==39],\n",
        "                 Sent1D1.loc[Sent1D1['DN'] ==41]]\n",
        "#Tiles Labels                \n",
        "titles_class = ['No Label data','Forest Formation','Savanna Formation', 'Wetlands','Grassland',' Pasture','Urban Area',' River,Lake and Ocean','Soybean','Other temporary Crops']"
      ],
      "metadata": {
        "id": "S8Us_WbNv6RA"
      },
      "execution_count": 112,
      "outputs": []
    },
    {
      "cell_type": "code",
      "source": [
        "data"
      ],
      "metadata": {
        "colab": {
          "base_uri": "https://localhost:8080/",
          "height": 166
        },
        "id": "now0fXQFNjXc",
        "outputId": "88f0310f-c6d7-4e23-bd23-da67ca53254a"
      },
      "execution_count": 114,
      "outputs": [
        {
          "output_type": "error",
          "ename": "NameError",
          "evalue": "ignored",
          "traceback": [
            "\u001b[0;31m---------------------------------------------------------------------------\u001b[0m",
            "\u001b[0;31mNameError\u001b[0m                                 Traceback (most recent call last)",
            "\u001b[0;32m<ipython-input-114-c5d84736ba45>\u001b[0m in \u001b[0;36m<module>\u001b[0;34m()\u001b[0m\n\u001b[0;32m----> 1\u001b[0;31m \u001b[0mdata\u001b[0m\u001b[0;34m\u001b[0m\u001b[0;34m\u001b[0m\u001b[0m\n\u001b[0m",
            "\u001b[0;31mNameError\u001b[0m: name 'data' is not defined"
          ]
        }
      ]
    },
    {
      "cell_type": "code",
      "source": [
        "j=3\n",
        "\n",
        "\n",
        "figure(figsize=(17, 10), dpi=80)\n",
        "\n",
        "\n",
        "data = Sent1D1_CLASSES\n",
        "#Alocating coluns namnes in a vector \n",
        "col_name = [] \n",
        "for col in Sent1D1.columns: col_name.append(col)\n",
        "#Alocating coluns in vector ⚠️ NORMALIZED ⚠️ ! Can I done these directily from pandas???\n",
        "all_data = []\n",
        "for i in range(2,len(col_name)): all_data.append(data[j][col_name[i]].values/max(data[j][col_name[i]].values)) \n",
        "#Alocating Labels\n",
        "labels = []\n",
        "for i in range (2,len(col_name)): labels.append(col_name[i][14:])\n",
        "\n",
        "#Ploting boxplot\n",
        "plt.boxplot(all_data, vert=True, labels=labels, patch_artist=True, notch=True, \n",
        "            boxprops=dict(facecolor=colors[j], color=colors[j]))\n",
        "plt.ylabel('observed value')\n",
        "plt.xlabel('Samples')\n",
        "plt.title(titles_class[j]+ f' - Class {j}')\n",
        "plt.legend()\n",
        "plt.xticks(rotation=90)\n",
        "plt.show()\n"
      ],
      "metadata": {
        "colab": {
          "base_uri": "https://localhost:8080/",
          "height": 746
        },
        "id": "-WpWtLSIz9kC",
        "outputId": "d0f7eddb-fa7f-4ad8-92cf-8c437433ef7b"
      },
      "execution_count": 115,
      "outputs": [
        {
          "output_type": "stream",
          "name": "stderr",
          "text": [
            "No handles with labels found to put in legend.\n"
          ]
        },
        {
          "output_type": "display_data",
          "data": {
            "text/plain": [
              "<Figure size 1360x800 with 1 Axes>"
            ],
            "image/png": "[encoded data removed]"
          },
          "metadata": {
            "needs_background": "light"
          }
        }
      ]
    },
    {
      "cell_type": "code",
      "source": [
        ""
      ],
      "metadata": {
        "id": "4veEX2Ya4hlM"
      },
      "execution_count": 54,
      "outputs": []
    },
    {
      "cell_type": "code",
      "source": [
        ""
      ],
      "metadata": {
        "colab": {
          "base_uri": "https://localhost:8080/",
          "height": 350
        },
        "id": "csJr4Qr1y29B",
        "outputId": "7549dc18-225e-4e2c-b17b-f8cbc252f5ae"
      },
      "execution_count": 59,
      "outputs": [
        {
          "output_type": "stream",
          "name": "stderr",
          "text": [
            "No handles with labels found to put in legend.\n"
          ]
        },
        {
          "output_type": "display_data",
          "data": {
            "text/plain": [
              "<Figure size 432x288 with 1 Axes>"
            ],
            "image/png": "[encoded data removed]"
          },
          "metadata": {
            "needs_background": "light"
          }
        }
      ]
    },
    {
      "cell_type": "markdown",
      "source": [
        "## e) descreva e apresente possíveis correlações dos dados;"
      ],
      "metadata": {
        "id": "70bOX7vdDVKA"
      }
    }
  ]
}