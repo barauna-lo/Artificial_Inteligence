{
  "nbformat": 4,
  "nbformat_minor": 0,
  "metadata": {
    "colab": {
      "name": "CAP345_Artificial_Intelience_AT01.ipynb",
      "provenance": [],
      "authorship_tag": "ABX9TyP2/JRdXXkMkgcBhOOKJKui",
      "include_colab_link": true
    },
    "kernelspec": {
      "name": "python3",
      "display_name": "Python 3"
    },
    "language_info": {
      "name": "python"
    }
  },
  "cells": [
    {
      "cell_type": "markdown",
      "metadata": {
        "id": "view-in-github",
        "colab_type": "text"
      },
      "source": [
        "<a href=\"https://colab.research.google.com/github/barauna-lo/Artificial_Inteligence/blob/main/CAP345_Artificial_Intelience_AT01.ipynb\" target=\"_parent\"><img src=\"https://colab.research.google.com/assets/colab-badge.svg\" alt=\"Open In Colab\"/></a>"
      ]
    },
    {
      "cell_type": "markdown",
      "source": [
        "[<img src=https://raw.githubusercontent.com/barauna-lo/CAP4213-Deep-Learning/main/logoinpe.png align=”middle”>](https://www.gov.br/inpe/pt-br)\n",
        "\n",
        "[<center><img src=\"https://github.com/barauna-lo/CAP4213-Deep-Learning/blob/main/LogoCAP.png?raw=true\" width = 500 align=\"middle\"></center>](http://www.inpe.br/posgraduacao/cap/)\n",
        "\n",
        "\n",
        "# CAP-345-3 - Inteligência Artificial\n",
        "\n",
        "* Aline Nascimento\n",
        "* Lourenço Cavalcante\n",
        "* Luan Orion Baraúna\n",
        "\n",
        "These code was provide for [this](https://sites.google.com/view/ia-inpe-2022/) course. \n",
        "\n",
        "\n"
      ],
      "metadata": {
        "id": "bxozg9S9c4rH"
      }
    },
    {
      "cell_type": "markdown",
      "source": [
        "# Atividade 1 - Análise do problema e dos dados\n",
        "\n",
        "1) Considere os conceitos apresentados em aula e o problema apresentado pela Dra. Tahisa (apres_problema.pdf)\n",
        "link: https://drive.google.com/file/d/1OzCFj26aTVmw-dEAGhAhTbv2kFO2K7YD/view?usp=sharing\n",
        "\n",
        " \n",
        "Apresente a introdução de um artigo (seção 1) em um documento no formato (IEEE) (https://www.ieee.org/conferences/publishing/templates.html), contendo: \n",
        "A descrição do problema, a motivação, os objetivos, possíveis técnicas a serem empregadas e resultados esperados.  \n",
        " \n",
        "2) Considere os dados disponíveis nos arquivos .csv: \n",
        "\n",
        "Conjunto 1 – 1o período: \n",
        "   1. Sentinel 1. Data: 28-05-2022 \n",
        "   2. Sentinel 2. Data: 31-05-2022 \n",
        "\n",
        "Conjunto 2 – 2o período: \n",
        "   1. Sentinel 1. Data: 07-10-2022 \n",
        "   2. Sentinel 2. Data: 08-10-2022 \n",
        "\n",
        "Apresente a análise e tratamento dos dados (seção 2) no mesmo documento no formato IEEE.\n",
        "\n",
        "   a) descreva as entradas e saídas para o problema considerado;\n",
        "\n",
        "   b) descreva informações dos conjuntos de dados; \n",
        "   \n",
        "   c) descreva e apresente análises de possíveis dados faltantes e outliers; \n",
        "   \n",
        "   d) descreva e apresente análises estatísticas dos dados; \n",
        "   \n",
        "   e) descreva e apresente possíveis correlações dos dados; \n",
        " \n",
        "As análises podem ser feitas no Orange ou com bibliotecas Python ou R. \n",
        "O trabalho pode ser feito em grupo de até 3 pessoas. Cada um deve postar a atividade (arquivos .pdf e programa), com indicação da composição do grupo.\n",
        "\n",
        "Data de postagem: 22/04/2022\n",
        "\n",
        "\n",
        "===============\n",
        "\n",
        "ATENÇÃO: Os dados anteriormente compartilhados podem apresentar dificuldades na fase de leitura. \n",
        "Estamos disponibilizando os mesmos dados em formato diferente, no link abaixo.\n",
        "\n",
        "https://drive.google.com/drive/folders/1jLUUUl-KcNOaDWGRkivA6C5g-gE7FZUd?usp=sharing\n"
      ],
      "metadata": {
        "id": "bLM8LwWuujqc"
      }
    },
    {
      "cell_type": "markdown",
      "source": [
        "# 1) Introdução:\n",
        "A introdução do problema pode ser encontrada [nesta](https://www.overleaf.com/read/xwtdcgxpnytc) versão do Overleaf"
      ],
      "metadata": {
        "id": "zOV4vNMot4iQ"
      }
    },
    {
      "cell_type": "markdown",
      "source": [
        "# 2) Considere os dados disponíveis nos arquivos .csv: \n"
      ],
      "metadata": {
        "id": "Pzm_rGHVsuJY"
      }
    },
    {
      "cell_type": "code",
      "source": [
        "#Import Librarys 📚\n",
        "import numpy as np\n",
        "import pandas as pd\n",
        "import matplotlib.pyplot as plt\n",
        "from matplotlib.pyplot import figure\n",
        "#import seaborn as sns\n",
        "from pyparsing.core import ZeroOrMore\n",
        "from itertools import combinations\n",
        "\n",
        "# set a grey background (use sns.set_theme() if seaborn version 0.11.0 or above) \n",
        "#sns.set(style=\"darkgrid\")"
      ],
      "metadata": {
        "id": "q02fvSxNZkq7"
      },
      "execution_count": 1,
      "outputs": []
    },
    {
      "cell_type": "code",
      "execution_count": 6,
      "metadata": {
        "colab": {
          "base_uri": "https://localhost:8080/"
        },
        "id": "LhkX4JvRbO8U",
        "outputId": "3d689c13-b351-4f88-a4ed-9e3cfb309ae0"
      },
      "outputs": [
        {
          "output_type": "stream",
          "name": "stdout",
          "text": [
            "/usr/local/lib/python3.7/dist-packages/gdown/cli.py:131: FutureWarning: Option `--id` was deprecated in version 4.3.1 and will be removed in 5.0. You don't need to pass it anymore to use a file ID.\n",
            "  category=FutureWarning,\n",
            "Downloading...\n",
            "From: https://drive.google.com/uc?id=12l96KuvmDKNskSe8Zzf0yt-DwKwb_uPh\n",
            "To: /content/S120200528.csv\n",
            "100% 36.1M/36.1M [00:00<00:00, 216MB/s]\n",
            "/usr/local/lib/python3.7/dist-packages/gdown/cli.py:131: FutureWarning: Option `--id` was deprecated in version 4.3.1 and will be removed in 5.0. You don't need to pass it anymore to use a file ID.\n",
            "  category=FutureWarning,\n",
            "Downloading...\n",
            "From: https://drive.google.com/uc?id=1RUSxSQX5bYIsr4ewGM_u0jRs3-edj7ze\n",
            "To: /content/S120201007.csv\n",
            "100% 36.4M/36.4M [00:00<00:00, 226MB/s]\n",
            "/usr/local/lib/python3.7/dist-packages/gdown/cli.py:131: FutureWarning: Option `--id` was deprecated in version 4.3.1 and will be removed in 5.0. You don't need to pass it anymore to use a file ID.\n",
            "  category=FutureWarning,\n",
            "Downloading...\n",
            "From: https://drive.google.com/uc?id=1funnNkha2LANOsXtSZus0iZAD6R3_5xR\n",
            "To: /content/S220200531.csv\n",
            "100% 100M/100M [00:00<00:00, 235MB/s]\n",
            "/usr/local/lib/python3.7/dist-packages/gdown/cli.py:131: FutureWarning: Option `--id` was deprecated in version 4.3.1 and will be removed in 5.0. You don't need to pass it anymore to use a file ID.\n",
            "  category=FutureWarning,\n",
            "Downloading...\n",
            "From: https://drive.google.com/uc?id=1uu1pH1_Y1ztqg8ugSkwc7lNqiRBSdMuz\n",
            "To: /content/S220201008.csv\n",
            "100% 99.5M/99.5M [00:00<00:00, 216MB/s]\n"
          ]
        }
      ],
      "source": [
        "!gdown --id 12l96KuvmDKNskSe8Zzf0yt-DwKwb_uPh\n",
        "!gdown --id 1RUSxSQX5bYIsr4ewGM_u0jRs3-edj7ze\n",
        "!gdown --id 1funnNkha2LANOsXtSZus0iZAD6R3_5xR\n",
        "!gdown --id 1uu1pH1_Y1ztqg8ugSkwc7lNqiRBSdMuz"
      ]
    },
    {
      "cell_type": "code",
      "source": [
        "#Reading the data and Sorting in cresceting order in DN Classes\n",
        "\n",
        "Sent1D1=pd.read_csv('S120200528.csv').sort_values(by=['DN']) #Sentinel-1 Date 1\n",
        "Sent1D2=pd.read_csv('S120201007.csv').sort_values(by=['DN']) #Sentinel-1 Date 2\n",
        "Sent2D1=pd.read_csv('S220200531.csv').sort_values(by=['DN']) #Sentinel-2 Date 1\n",
        "Sent2D2=pd.read_csv('S220201008.csv').sort_values(by=['DN']) #Sentinel-2 Date 2"
      ],
      "metadata": {
        "id": "KnMv3OVjzdQ6"
      },
      "execution_count": 15,
      "outputs": []
    },
    {
      "cell_type": "markdown",
      "source": [
        "## a) descreva as entradas e saídas para o problema considerado;\n",
        "\n",
        "Este é um problema de **CLASSIFICAÇÃO**. Para isso iremos utilizas como classe os elementos da coluna `DN` do conjunto de dados. Para classificamos os objetos de uma determinada classe utilizaremos as demais colunas da tabela que podem ser encontradas com vizualizadas com `df.coluns`"
      ],
      "metadata": {
        "id": "B7NZ8ocCrrzX"
      }
    },
    {
      "cell_type": "code",
      "source": [
        "Sent1D2.columns"
      ],
      "metadata": {
        "colab": {
          "base_uri": "https://localhost:8080/"
        },
        "id": "KwEcBkjbrLts",
        "outputId": "d722a07d-bd7d-4dbe-b83d-60855e9f8958"
      },
      "execution_count": 12,
      "outputs": [
        {
          "output_type": "execute_result",
          "data": {
            "text/plain": [
              "Index(['fid', 'DN', '20200531_S2_B1_count', '20200531_S2_B1_sum',\n",
              "       '20200531_S2_B1_mean', '20200531_S2_B1_median', '20200531_S2_B1_stdev',\n",
              "       '20200531_S2_B1_min', '20200531_S2_B1_max', '20200531_S2_B1_range',\n",
              "       ...\n",
              "       '20200531_S2_B12_mean', '20200531_S2_B12_median',\n",
              "       '20200531_S2_B12_stdev', '20200531_S2_B12_min', '20200531_S2_B12_max',\n",
              "       '20200531_S2_B12_range', '20200531_S2_B12_minority',\n",
              "       '20200531_S2_B12_majority', '20200531_S2_B12_variety',\n",
              "       '20200531_S2_B12_variance'],\n",
              "      dtype='object', length=158)"
            ]
          },
          "metadata": {},
          "execution_count": 12
        }
      ]
    },
    {
      "cell_type": "markdown",
      "source": [
        "## b) descreva informações dos conjuntos de dados; \n",
        "\n",
        "Os dados são provenientes de um processo de [_Segmentação de Imagens_](https://en.wikipedia.org/wiki/Image_segmentation) das imagens extraídas do satélites [Sentinel-1](https://sentinels.copernicus.eu/web/sentinel/missions/sentinel-1) e [Sentinel-2](https://sentinels.copernicus.eu/web/sentinel/missions/sentinel-2) em 4 conjuntos de dados diferentes proveniente dos dois satélites em datas diferentes. \n",
        "\n",
        "As segmentações possuem uma identificação na coluna `fid`, uma classe associada a classificação do [MapBiomas Brasil Coleção 06](https://mapbiomas.org/estatisticas) `DM` e um conjunto de atributos separados alocados nas colunas. Cada conjunto de dados possui uma quantidade de atributos diferentes."
      ],
      "metadata": {
        "id": "FWs1N-Osrrrz"
      }
    },
    {
      "cell_type": "code",
      "source": [
        "print('Sentinel-1 \\n' ,len(Sent1D1.columns) , 'for  2020/05/28' , ' and  ' , len(Sent1D2.columns), 'for  2020/10/07')\n",
        "print('Sentinel-2 \\n' ,len(Sent2D1.columns) , 'for  2020/05/31' , ' and  ' , len(Sent2D2.columns), 'for  2020/10/08')"
      ],
      "metadata": {
        "colab": {
          "base_uri": "https://localhost:8080/"
        },
        "id": "sYeBlgaTrrQL",
        "outputId": "4b3a4373-0a42-4400-aa3f-a3fb8022a837"
      },
      "execution_count": 27,
      "outputs": [
        {
          "output_type": "stream",
          "name": "stdout",
          "text": [
            "Sentinel-1 \n",
            " 26 for  2020/05/28  and   26 for  2020/10/07\n",
            "Sentinel-2 \n",
            " 158 for  2020/05/31  and   158 for  2020/10/08\n"
          ]
        }
      ]
    },
    {
      "cell_type": "markdown",
      "source": [
        "## c) Descreva e apresente análises de possíveis dados faltantes e outliers;\n",
        "\n",
        "Vamos olhar cada um dos conjuntos de dados."
      ],
      "metadata": {
        "id": "ZMbSc5Bz2Qw5"
      }
    },
    {
      "cell_type": "code",
      "source": [
        "#Sentinel -1\n",
        "print('Sentinel -1\\n')\n",
        "print(Sent1D1.info())\n",
        "print('\\n \\n')\n",
        "print(Sent1D2.info())\n",
        "print('\\n#########################################\\n')\n",
        "print('Sentinel -2\\n')\n",
        "print(Sent2D1.info())\n",
        "print('\\n')\n",
        "print(Sent2D2.info())"
      ],
      "metadata": {
        "colab": {
          "base_uri": "https://localhost:8080/"
        },
        "id": "ctUjIGpI2RYq",
        "outputId": "a389a173-d6d5-4c2e-de58-9593b9e34d3f"
      },
      "execution_count": 38,
      "outputs": [
        {
          "output_type": "stream",
          "name": "stdout",
          "text": [
            "Sentinel -1\n",
            "\n",
            "<class 'pandas.core.frame.DataFrame'>\n",
            "Int64Index: 90064 entries, 51903 to 41330\n",
            "Data columns (total 26 columns):\n",
            " #   Column                   Non-Null Count  Dtype  \n",
            "---  ------                   --------------  -----  \n",
            " 0   fid                      90064 non-null  int64  \n",
            " 1   DN                       90064 non-null  int64  \n",
            " 2   S1_20200528_VHcount      90064 non-null  float64\n",
            " 3   S1_20200528_VHsum        90064 non-null  float64\n",
            " 4   S1_20200528_VHmean       90064 non-null  float64\n",
            " 5   S1_20200528_VHmedian     90064 non-null  float64\n",
            " 6   S1_20200528_VHstdev      90064 non-null  float64\n",
            " 7   S1_20200528_VHmin        90064 non-null  float64\n",
            " 8   S1_20200528_VHmax        90064 non-null  float64\n",
            " 9   S1_20200528_VHrange      90064 non-null  float64\n",
            " 10  S1_20200528_VHminority   90064 non-null  float64\n",
            " 11  S1_20200528_VHmajority   90064 non-null  float64\n",
            " 12  S1_20200528_VHvariety    90064 non-null  int64  \n",
            " 13  S1_20200528_VHvariance   90064 non-null  float64\n",
            " 14  S1_20200528_VV_count     90064 non-null  float64\n",
            " 15  S1_20200528_VV_sum       90064 non-null  float64\n",
            " 16  S1_20200528_VV_mean      90064 non-null  float64\n",
            " 17  S1_20200528_VV_median    90064 non-null  float64\n",
            " 18  S1_20200528_VV_stdev     90064 non-null  float64\n",
            " 19  S1_20200528_VV_min       90064 non-null  float64\n",
            " 20  S1_20200528_VV_max       90064 non-null  float64\n",
            " 21  S1_20200528_VV_range     90064 non-null  float64\n",
            " 22  S1_20200528_VV_minority  90064 non-null  float64\n",
            " 23  S1_20200528_VV_majority  90064 non-null  float64\n",
            " 24  S1_20200528_VV_variety   90064 non-null  int64  \n",
            " 25  S1_20200528_VV_variance  90064 non-null  float64\n",
            "dtypes: float64(22), int64(4)\n",
            "memory usage: 18.6 MB\n",
            "None\n",
            "\n",
            " \n",
            "\n",
            "<class 'pandas.core.frame.DataFrame'>\n",
            "Int64Index: 90064 entries, 51903 to 41330\n",
            "Data columns (total 26 columns):\n",
            " #   Column                   Non-Null Count  Dtype  \n",
            "---  ------                   --------------  -----  \n",
            " 0   fid                      90064 non-null  int64  \n",
            " 1   DN                       90064 non-null  int64  \n",
            " 2   20201007_S1_VH_count     90064 non-null  float64\n",
            " 3   20201007_S1_VH_sum       90064 non-null  float64\n",
            " 4   20201007_S1_VH_mean      90064 non-null  float64\n",
            " 5   20201007_S1_VH_median    90064 non-null  float64\n",
            " 6   20201007_S1_VH_stdev     90064 non-null  float64\n",
            " 7   20201007_S1_VH_min       90064 non-null  float64\n",
            " 8   20201007_S1_VH_max       90064 non-null  float64\n",
            " 9   20201007_S1_VH_range     90064 non-null  float64\n",
            " 10  20201007_S1_VH_minority  90064 non-null  float64\n",
            " 11  20201007_S1_VH_majority  90064 non-null  float64\n",
            " 12  20201007_S1_VH_variety   90064 non-null  int64  \n",
            " 13  20201007_S1_VH_variance  90064 non-null  float64\n",
            " 14  20201007_S1_VV_count     90064 non-null  float64\n",
            " 15  20201007_S1_VV_sum       90064 non-null  float64\n",
            " 16  20201007_S1_VV_mean      90064 non-null  float64\n",
            " 17  20201007_S1_VV_median    90064 non-null  float64\n",
            " 18  20201007_S1_VV_stdev     90064 non-null  float64\n",
            " 19  20201007_S1_VV_min       90064 non-null  float64\n",
            " 20  20201007_S1_VV_max       90064 non-null  float64\n",
            " 21  20201007_S1_VV_range     90064 non-null  float64\n",
            " 22  20201007_S1_VV_minority  90064 non-null  float64\n",
            " 23  20201007_S1_VV_majority  90064 non-null  float64\n",
            " 24  20201007_S1_VV_variety   90064 non-null  int64  \n",
            " 25  20201007_S1_VV_variance  90064 non-null  float64\n",
            "dtypes: float64(22), int64(4)\n",
            "memory usage: 18.6 MB\n",
            "None\n",
            "\n",
            "#########################################\n",
            "\n",
            "Sentinel -2\n",
            "\n",
            "<class 'pandas.core.frame.DataFrame'>\n",
            "Int64Index: 90064 entries, 51903 to 41330\n",
            "Columns: 158 entries, fid to 20200531_S2_B12_variance\n",
            "dtypes: float64(156), int64(2)\n",
            "memory usage: 109.3 MB\n",
            "None\n",
            "\n",
            "\n",
            "<class 'pandas.core.frame.DataFrame'>\n",
            "Int64Index: 90064 entries, 51903 to 41330\n",
            "Columns: 158 entries, fid to 20201008_S2_B12_variance\n",
            "dtypes: float64(156), int64(2)\n",
            "memory usage: 109.3 MB\n",
            "None\n"
          ]
        }
      ]
    },
    {
      "cell_type": "markdown",
      "source": [
        "Index(['fid', \n",
        "'DN', 'S1_20200528_VHcount',\n",
        " 'S1_20200528_VHsum',\n",
        "       'S1_20200528_VHmean', 'S1_20200528_VHmedian', 'S1_20200528_VHstdev',\n",
        "       'S1_20200528_VHmin', 'S1_20200528_VHmax', 'S1_20200528_VHrange',\n",
        "       'S1_20200528_VHminority', 'S1_20200528_VHmajority',\n",
        "       'S1_20200528_VHvariety', 'S1_20200528_VHvariance',\n",
        "       'S1_20200528_VV_count', 'S1_20200528_VV_sum', 'S1_20200528_VV_mean',\n",
        "       'S1_20200528_VV_median', 'S1_20200528_VV_stdev', 'S1_20200528_VV_min',\n",
        "       'S1_20200528_VV_max', 'S1_20200528_VV_range', 'S1_20200528_VV_minority',\n",
        "       'S1_20200528_VV_majority', 'S1_20200528_VV_variety',\n",
        "       'S1_20200528_VV_variance'],\n",
        "      dtype='object')"
      ],
      "metadata": {
        "id": "rAhgTCvG5qt6"
      }
    },
    {
      "cell_type": "code",
      "source": [
        "from collections import Counter\n",
        "#Alocating Frequency Data\n",
        "freqs = [Counter(Sent1D1['DN'].values),\n",
        "         Counter(Sent2D1['DN'].values),\n",
        "         Counter(Sent1D2['DN'].values),\n",
        "         Counter(Sent2D2['DN'].values)]\n",
        "#Alocanting Classes Values\n",
        "xvals = []\n",
        "for i in range(len(freqs)):\n",
        "  xvals.append(range(len(freqs[i].values())) )\n",
        "#Titles Classes\n",
        "titles =['Sentinel-1 20/05/28',\n",
        "         'Sentinel-1 20/10/07',\n",
        "         'Sentinel-2 20/05/31',\n",
        "         'Sentinel-2 20/10/08']\n",
        "\n",
        "#Ploting Figure\n",
        "figure(figsize=(17, 10), dpi=80)\n",
        "\n",
        "plt.suptitle(\"Classes Distribuition From all Data Frame\",y=0.94)\n",
        "for i in range(len(titles)):\n",
        "  plt.subplot(2,2,(i+1))\n",
        "  plt.bar(xvals[i], freqs[i].values() , color='#37777D')\n",
        "  plt.xticks(xvals[i], freqs[i].keys())\n",
        "  plt.xlabel('Classes Label')\n",
        "  plt.ylabel('Number of samples')\n",
        "  plt.yscale(\"log\")\n",
        "  plt.title(titles[i])\n",
        "plt.show() \n",
        "#https://stackoverflow.com/questions/56850735/matplotlib-histogram-with-non-numerical-data"
      ],
      "metadata": {
        "colab": {
          "base_uri": "https://localhost:8080/",
          "height": 689
        },
        "id": "ch0xVx7-iBkl",
        "outputId": "cb592d9c-a300-4374-d87b-986bc50a67f8"
      },
      "execution_count": 3,
      "outputs": [
        {
          "output_type": "display_data",
          "data": {
            "text/plain": [
              "<Figure size 1360x800 with 4 Axes>"
            ],
            "image/png": "[encoded data removed]"
          },
          "metadata": {
            "needs_background": "light"
          }
        }
      ]
    }
  ]
}